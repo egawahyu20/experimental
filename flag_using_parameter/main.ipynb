{
 "cells": [
  {
   "cell_type": "code",
   "execution_count": 1,
   "metadata": {},
   "outputs": [],
   "source": [
    "import os\n",
    "from pyspark.sql import SparkSession\n",
    "from pyspark.sql.functions import col, when, lit\n",
    "import pandas as pd"
   ]
  },
  {
   "cell_type": "code",
   "execution_count": 2,
   "metadata": {},
   "outputs": [],
   "source": [
    "TEMP_PATH = os.environ.get(\"TEMP\", \"C:/Temp\")"
   ]
  },
  {
   "cell_type": "code",
   "execution_count": 3,
   "metadata": {},
   "outputs": [],
   "source": [
    "# Inisialisasi Spark\n",
    "spark = SparkSession.builder \\\n",
    "    .appName(\"FlaggingData\") \\\n",
    "    .master(\"local[*]\") \\\n",
    "    .config(\"spark.driver.memory\", \"8g\") \\\n",
    "    .config(\"spark.executor.memory\", \"4g\") \\\n",
    "    .config(\"spark.executor.cores\", \"2\") \\\n",
    "    .config(\"spark.sql.shuffle.partitions\", \"8\") \\\n",
    "    .config(\"spark.default.parallelism\", \"8\") \\\n",
    "    .config(\"spark.python.worker.memory\", \"512m\") \\\n",
    "    .config(\"spark.sql.execution.arrow.enabled\", \"true\") \\\n",
    "    .config(\"spark.local.dir\", TEMP_PATH) \\\n",
    "    .getOrCreate()"
   ]
  },
  {
   "cell_type": "code",
   "execution_count": 4,
   "metadata": {},
   "outputs": [],
   "source": [
    "# Baca file Excel\n",
    "file_name = \"flags_and_parameters.xlsx\"\n",
    "parameters_df = pd.read_excel(file_name, sheet_name=\"parameters\")\n",
    "categories_df = pd.read_excel(file_name, sheet_name=\"categories\")"
   ]
  },
  {
   "cell_type": "code",
   "execution_count": 5,
   "metadata": {},
   "outputs": [],
   "source": [
    "# Konversi ke PySpark DataFrame\n",
    "flag_rules = spark.createDataFrame(categories_df)\n",
    "input_df = spark.read.csv(\"data.csv\", header=True, inferSchema=True)"
   ]
  },
  {
   "cell_type": "code",
   "execution_count": 6,
   "metadata": {},
   "outputs": [
    {
     "name": "stdout",
     "output_type": "stream",
     "text": [
      "+------+-----+---------+----+----+-----------+\n",
      "| field| mode|condition| min| max| flag_value|\n",
      "+------+-----+---------+----+----+-----------+\n",
      "|   age|range|     NULL| 5.0|11.0|      Child|\n",
      "|   age|range|     NULL|12.0|25.0|   Teenager|\n",
      "|   age|range|     NULL|26.0|45.0|      Adult|\n",
      "|   age|range|     NULL|46.0|65.0|    Elderly|\n",
      "|salary|exact|  > 50000|NULL|NULL|High Salary|\n",
      "+------+-----+---------+----+----+-----------+\n",
      "only showing top 5 rows\n",
      "\n"
     ]
    }
   ],
   "source": [
    "flag_rules.show(5)"
   ]
  },
  {
   "cell_type": "code",
   "execution_count": 7,
   "metadata": {},
   "outputs": [
    {
     "name": "stdout",
     "output_type": "stream",
     "text": [
      "+-----+---+------+\n",
      "| name|age|salary|\n",
      "+-----+---+------+\n",
      "| John| 35| 60000|\n",
      "|Alice| 28| 45000|\n",
      "|  Bob| 47|300000|\n",
      "+-----+---+------+\n",
      "\n"
     ]
    }
   ],
   "source": [
    "input_df.show(5)"
   ]
  },
  {
   "cell_type": "code",
   "execution_count": 8,
   "metadata": {},
   "outputs": [],
   "source": [
    "def generate_flag(df, rules, mode=\"exact\", **kwargs):\n",
    "    rules_column = kwargs.get(\"rules_column\", \"Unknown\")\n",
    "    output_column = kwargs.get(\"output_column\", \"Flag\")\n",
    "\n",
    "    # Filter rules berdasarkan kolom yang diinginkan\n",
    "    rules = rules.filter(col(\"field\") == rules_column)\n",
    "    df = df.withColumn(output_column, lit(\"Unknown\"))  # Default to Unknown\n",
    "\n",
    "    if mode == \"exact\":\n",
    "        # Mode exact: cek kondisi yang tepat\n",
    "        for row in rules.collect():\n",
    "            condition = row[\"condition\"]\n",
    "            flag_value = row[\"flag_value\"]\n",
    "\n",
    "            df = df.withColumn(\n",
    "                output_column,\n",
    "                when(eval(f\"col('{rules_column}') {condition}\"), flag_value).otherwise(col(output_column))\n",
    "            )\n",
    "\n",
    "    elif mode == \"range\":\n",
    "        # Mode range: cek rentang nilai\n",
    "        for row in rules.collect():\n",
    "            min_val = row[\"min\"]\n",
    "            max_val = row[\"max\"]\n",
    "            flag_value = row[\"flag_value\"]\n",
    "            \n",
    "            # Terapkan flagging dengan rentang nilai\n",
    "            df = df.withColumn(\n",
    "                output_column,\n",
    "                when(col(rules_column).between(min_val, max_val), flag_value).otherwise(col(output_column))\n",
    "            )\n",
    "    else:\n",
    "        print(\"Wrong input, should be 'exact' or 'range' as input mode.\")\n",
    "\n",
    "    return df\n"
   ]
  },
  {
   "cell_type": "code",
   "execution_count": 9,
   "metadata": {},
   "outputs": [],
   "source": [
    "# Membuat kolom flag berdasarkan aturan\n",
    "input_df = generate_flag(input_df, flag_rules, rules_column=\"age\", output_column=\"age_category\", mode=\"range\")\n",
    "input_df = generate_flag(input_df, flag_rules, rules_column=\"salary\", output_column=\"salary_category\", mode=\"exact\")"
   ]
  },
  {
   "cell_type": "code",
   "execution_count": 10,
   "metadata": {},
   "outputs": [
    {
     "name": "stdout",
     "output_type": "stream",
     "text": [
      "+-----+---+------+------------+---------------+\n",
      "| name|age|salary|age_category|salary_category|\n",
      "+-----+---+------+------------+---------------+\n",
      "| John| 35| 60000|       Adult|    High Salary|\n",
      "|Alice| 28| 45000|       Adult|     Low Salary|\n",
      "|  Bob| 47|300000|     Elderly|    High Salary|\n",
      "+-----+---+------+------------+---------------+\n",
      "\n"
     ]
    }
   ],
   "source": [
    "# Tampilkan hasil\n",
    "input_df.show()"
   ]
  },
  {
   "cell_type": "code",
   "execution_count": 11,
   "metadata": {},
   "outputs": [],
   "source": [
    "spark.stop()"
   ]
  }
 ],
 "metadata": {
  "kernelspec": {
   "display_name": "Python 3",
   "language": "python",
   "name": "python3"
  },
  "language_info": {
   "codemirror_mode": {
    "name": "ipython",
    "version": 3
   },
   "file_extension": ".py",
   "mimetype": "text/x-python",
   "name": "python",
   "nbconvert_exporter": "python",
   "pygments_lexer": "ipython3",
   "version": "3.12.2"
  }
 },
 "nbformat": 4,
 "nbformat_minor": 2
}
